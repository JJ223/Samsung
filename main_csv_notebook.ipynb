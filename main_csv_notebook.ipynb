{
 "cells": [
  {
   "cell_type": "code",
   "execution_count": 120,
   "id": "initial_id",
   "metadata": {
    "collapsed": true,
    "ExecuteTime": {
     "end_time": "2023-11-16T17:18:53.830761Z",
     "start_time": "2023-11-16T17:18:53.827866Z"
    }
   },
   "outputs": [],
   "source": [
    "import pandas as pd\n",
    "import numpy as np\n",
    "import os\n",
    "import re"
   ]
  },
  {
   "cell_type": "code",
   "execution_count": 121,
   "outputs": [
    {
     "data": {
      "text/plain": "['Municipio do Seixal_22290.tsv',\n 'AREFICIENTE_22250.tsv',\n 'valinox_18623.tsv',\n 'Aramus_18636.tsv',\n 'ATM_22265.tsv']"
     },
     "execution_count": 121,
     "metadata": {},
     "output_type": "execute_result"
    }
   ],
   "source": [
    "path = os.path.join('budget-data', 'budget-data-new')\n",
    "\n",
    "files = os.listdir(path)\n",
    "\n",
    "if '.DS_Store' in files:\n",
    "    files.remove('.DS_Store')\n",
    "\n",
    "files[:5]"
   ],
   "metadata": {
    "collapsed": false,
    "ExecuteTime": {
     "end_time": "2023-11-16T17:18:54.075146Z",
     "start_time": "2023-11-16T17:18:54.071790Z"
    }
   },
   "id": "7bc9c5061d252e13"
  },
  {
   "cell_type": "code",
   "execution_count": 122,
   "outputs": [],
   "source": [
    "\n",
    "def extract_company_name_and_quote_id(file_name):\n",
    "    split = file_name.split('_')\n",
    "    return split[0], split[1].strip('.tsv')\n",
    "\n",
    "new_df_rows = []\n",
    "\n",
    "for file in files:\n",
    "    df = pd.read_csv(os.path.join(path, file), sep='\\t', encoding='utf-8')\n",
    "    \n",
    "    company_name, quote_id = extract_company_name_and_quote_id(file)\n",
    "    \n",
    "    for index, row in df.iterrows():\n",
    "        new_df_rows.append([\n",
    "            company_name,\n",
    "            quote_id,\n",
    "            row['dimensions'],\n",
    "            row['qtd'],\n",
    "            row['punit']\n",
    "        ])\n",
    "    "
   ],
   "metadata": {
    "collapsed": false,
    "ExecuteTime": {
     "end_time": "2023-11-16T17:18:55.617200Z",
     "start_time": "2023-11-16T17:18:55.439397Z"
    }
   },
   "id": "1c185a248ad57f30"
  },
  {
   "cell_type": "code",
   "execution_count": 123,
   "outputs": [
    {
     "data": {
      "text/plain": "            company_name quote_id                   description   qty  \\\n0    Municipio do Seixal    22290      Filtros MV/G4.445.622.44   2.0   \n1    Municipio do Seixal    22290      Filtros MV/G4.391.622.44   1.0   \n2    Municipio do Seixal    22290  Filtros F7.592.592.520.25.10   2.0   \n3    Municipio do Seixal    22290  Filtros F7.592.592.520.25.10   2.0   \n4    Municipio do Seixal    22290      Filtros MV/G4.448.448.48   2.0   \n..                   ...      ...                           ...   ...   \n782                 ATM     18579      Filtros MV/G4.630.495.48   2.0   \n783                 ATM     18579     Filtros MV/G4.875.670.145   1.0   \n784                 ATM     18579   Filtros F7.592.592.500.25.7  13.0   \n785                 ATM     18579   Filtros F7.287.592.500.25.4   2.0   \n786                 ATM     18579   Filtros F7.592.287.500.25.7   1.0   \n\n     unit_price  \n0         11.50  \n1         11.25  \n2         25.45  \n3         25.45  \n4         10.25  \n..          ...  \n782        7.80  \n783       27.50  \n784       14.95  \n785       11.95  \n786       14.50  \n\n[787 rows x 5 columns]",
      "text/html": "<div>\n<style scoped>\n    .dataframe tbody tr th:only-of-type {\n        vertical-align: middle;\n    }\n\n    .dataframe tbody tr th {\n        vertical-align: top;\n    }\n\n    .dataframe thead th {\n        text-align: right;\n    }\n</style>\n<table border=\"1\" class=\"dataframe\">\n  <thead>\n    <tr style=\"text-align: right;\">\n      <th></th>\n      <th>company_name</th>\n      <th>quote_id</th>\n      <th>description</th>\n      <th>qty</th>\n      <th>unit_price</th>\n    </tr>\n  </thead>\n  <tbody>\n    <tr>\n      <th>0</th>\n      <td>Municipio do Seixal</td>\n      <td>22290</td>\n      <td>Filtros MV/G4.445.622.44</td>\n      <td>2.0</td>\n      <td>11.50</td>\n    </tr>\n    <tr>\n      <th>1</th>\n      <td>Municipio do Seixal</td>\n      <td>22290</td>\n      <td>Filtros MV/G4.391.622.44</td>\n      <td>1.0</td>\n      <td>11.25</td>\n    </tr>\n    <tr>\n      <th>2</th>\n      <td>Municipio do Seixal</td>\n      <td>22290</td>\n      <td>Filtros F7.592.592.520.25.10</td>\n      <td>2.0</td>\n      <td>25.45</td>\n    </tr>\n    <tr>\n      <th>3</th>\n      <td>Municipio do Seixal</td>\n      <td>22290</td>\n      <td>Filtros F7.592.592.520.25.10</td>\n      <td>2.0</td>\n      <td>25.45</td>\n    </tr>\n    <tr>\n      <th>4</th>\n      <td>Municipio do Seixal</td>\n      <td>22290</td>\n      <td>Filtros MV/G4.448.448.48</td>\n      <td>2.0</td>\n      <td>10.25</td>\n    </tr>\n    <tr>\n      <th>...</th>\n      <td>...</td>\n      <td>...</td>\n      <td>...</td>\n      <td>...</td>\n      <td>...</td>\n    </tr>\n    <tr>\n      <th>782</th>\n      <td>ATM</td>\n      <td>18579</td>\n      <td>Filtros MV/G4.630.495.48</td>\n      <td>2.0</td>\n      <td>7.80</td>\n    </tr>\n    <tr>\n      <th>783</th>\n      <td>ATM</td>\n      <td>18579</td>\n      <td>Filtros MV/G4.875.670.145</td>\n      <td>1.0</td>\n      <td>27.50</td>\n    </tr>\n    <tr>\n      <th>784</th>\n      <td>ATM</td>\n      <td>18579</td>\n      <td>Filtros F7.592.592.500.25.7</td>\n      <td>13.0</td>\n      <td>14.95</td>\n    </tr>\n    <tr>\n      <th>785</th>\n      <td>ATM</td>\n      <td>18579</td>\n      <td>Filtros F7.287.592.500.25.4</td>\n      <td>2.0</td>\n      <td>11.95</td>\n    </tr>\n    <tr>\n      <th>786</th>\n      <td>ATM</td>\n      <td>18579</td>\n      <td>Filtros F7.592.287.500.25.7</td>\n      <td>1.0</td>\n      <td>14.50</td>\n    </tr>\n  </tbody>\n</table>\n<p>787 rows × 5 columns</p>\n</div>"
     },
     "execution_count": 123,
     "metadata": {},
     "output_type": "execute_result"
    }
   ],
   "source": [
    "new_df = pd.DataFrame(\n",
    "    columns=['company_name', 'quote_id', 'description', 'qty', 'unit_price'],\n",
    "    data=new_df_rows\n",
    ")\n",
    "\n",
    "new_df"
   ],
   "metadata": {
    "collapsed": false,
    "ExecuteTime": {
     "end_time": "2023-11-16T17:18:56.675509Z",
     "start_time": "2023-11-16T17:18:56.666310Z"
    }
   },
   "id": "870ec1d753358f7a"
  },
  {
   "cell_type": "code",
   "execution_count": 115,
   "outputs": [],
   "source": [
    "new_df.to_csv('budget-data.csv', index=False, encoding='utf-8')"
   ],
   "metadata": {
    "collapsed": false,
    "ExecuteTime": {
     "end_time": "2023-11-15T23:11:05.383580Z",
     "start_time": "2023-11-15T23:11:05.370974Z"
    }
   },
   "id": "44910a1fd5ca8d5"
  },
  {
   "cell_type": "code",
   "execution_count": 116,
   "outputs": [
    {
     "data": {
      "text/plain": "            company_name  quote_id                   description   qty  \\\n0    Municipio do Seixal     22290      Filtros MV/G4.445.622.44   2.0   \n1    Municipio do Seixal     22290      Filtros MV/G4.391.622.44   1.0   \n2    Municipio do Seixal     22290  Filtros F7.592.592.520.25.10   2.0   \n3    Municipio do Seixal     22290  Filtros F7.592.592.520.25.10   2.0   \n4    Municipio do Seixal     22290      Filtros MV/G4.448.448.48   2.0   \n..                   ...       ...                           ...   ...   \n782                 ATM      18579      Filtros MV/G4.630.495.48   2.0   \n783                 ATM      18579     Filtros MV/G4.875.670.145   1.0   \n784                 ATM      18579   Filtros F7.592.592.500.25.7  13.0   \n785                 ATM      18579   Filtros F7.287.592.500.25.4   2.0   \n786                 ATM      18579   Filtros F7.592.287.500.25.7   1.0   \n\n     unit_price  \n0         11.50  \n1         11.25  \n2         25.45  \n3         25.45  \n4         10.25  \n..          ...  \n782        7.80  \n783       27.50  \n784       14.95  \n785       11.95  \n786       14.50  \n\n[787 rows x 5 columns]",
      "text/html": "<div>\n<style scoped>\n    .dataframe tbody tr th:only-of-type {\n        vertical-align: middle;\n    }\n\n    .dataframe tbody tr th {\n        vertical-align: top;\n    }\n\n    .dataframe thead th {\n        text-align: right;\n    }\n</style>\n<table border=\"1\" class=\"dataframe\">\n  <thead>\n    <tr style=\"text-align: right;\">\n      <th></th>\n      <th>company_name</th>\n      <th>quote_id</th>\n      <th>description</th>\n      <th>qty</th>\n      <th>unit_price</th>\n    </tr>\n  </thead>\n  <tbody>\n    <tr>\n      <th>0</th>\n      <td>Municipio do Seixal</td>\n      <td>22290</td>\n      <td>Filtros MV/G4.445.622.44</td>\n      <td>2.0</td>\n      <td>11.50</td>\n    </tr>\n    <tr>\n      <th>1</th>\n      <td>Municipio do Seixal</td>\n      <td>22290</td>\n      <td>Filtros MV/G4.391.622.44</td>\n      <td>1.0</td>\n      <td>11.25</td>\n    </tr>\n    <tr>\n      <th>2</th>\n      <td>Municipio do Seixal</td>\n      <td>22290</td>\n      <td>Filtros F7.592.592.520.25.10</td>\n      <td>2.0</td>\n      <td>25.45</td>\n    </tr>\n    <tr>\n      <th>3</th>\n      <td>Municipio do Seixal</td>\n      <td>22290</td>\n      <td>Filtros F7.592.592.520.25.10</td>\n      <td>2.0</td>\n      <td>25.45</td>\n    </tr>\n    <tr>\n      <th>4</th>\n      <td>Municipio do Seixal</td>\n      <td>22290</td>\n      <td>Filtros MV/G4.448.448.48</td>\n      <td>2.0</td>\n      <td>10.25</td>\n    </tr>\n    <tr>\n      <th>...</th>\n      <td>...</td>\n      <td>...</td>\n      <td>...</td>\n      <td>...</td>\n      <td>...</td>\n    </tr>\n    <tr>\n      <th>782</th>\n      <td>ATM</td>\n      <td>18579</td>\n      <td>Filtros MV/G4.630.495.48</td>\n      <td>2.0</td>\n      <td>7.80</td>\n    </tr>\n    <tr>\n      <th>783</th>\n      <td>ATM</td>\n      <td>18579</td>\n      <td>Filtros MV/G4.875.670.145</td>\n      <td>1.0</td>\n      <td>27.50</td>\n    </tr>\n    <tr>\n      <th>784</th>\n      <td>ATM</td>\n      <td>18579</td>\n      <td>Filtros F7.592.592.500.25.7</td>\n      <td>13.0</td>\n      <td>14.95</td>\n    </tr>\n    <tr>\n      <th>785</th>\n      <td>ATM</td>\n      <td>18579</td>\n      <td>Filtros F7.287.592.500.25.4</td>\n      <td>2.0</td>\n      <td>11.95</td>\n    </tr>\n    <tr>\n      <th>786</th>\n      <td>ATM</td>\n      <td>18579</td>\n      <td>Filtros F7.592.287.500.25.7</td>\n      <td>1.0</td>\n      <td>14.50</td>\n    </tr>\n  </tbody>\n</table>\n<p>787 rows × 5 columns</p>\n</div>"
     },
     "execution_count": 116,
     "metadata": {},
     "output_type": "execute_result"
    }
   ],
   "source": [
    "df = pd.read_csv('budget-data.csv')\n",
    "df"
   ],
   "metadata": {
    "collapsed": false,
    "ExecuteTime": {
     "end_time": "2023-11-15T23:11:05.589937Z",
     "start_time": "2023-11-15T23:11:05.579479Z"
    }
   },
   "id": "33bee32214f4508e"
  }
 ],
 "metadata": {
  "kernelspec": {
   "display_name": "Python 3",
   "language": "python",
   "name": "python3"
  },
  "language_info": {
   "codemirror_mode": {
    "name": "ipython",
    "version": 2
   },
   "file_extension": ".py",
   "mimetype": "text/x-python",
   "name": "python",
   "nbconvert_exporter": "python",
   "pygments_lexer": "ipython2",
   "version": "2.7.6"
  }
 },
 "nbformat": 4,
 "nbformat_minor": 5
}
