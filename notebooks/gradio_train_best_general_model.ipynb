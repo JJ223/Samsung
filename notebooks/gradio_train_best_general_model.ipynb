{
 "cells": [
  {
   "cell_type": "code",
   "execution_count": 71,
   "id": "initial_id",
   "metadata": {
    "collapsed": true,
    "ExecuteTime": {
     "end_time": "2023-12-05T12:16:39.965193Z",
     "start_time": "2023-12-05T12:16:39.939673Z"
    }
   },
   "outputs": [],
   "source": [
    "from sklearn.ensemble import RandomForestRegressor\n",
    "from sklearn.model_selection import train_test_split\n",
    "from category_encoders import OneHotEncoder\n",
    "\n",
    "import pickle as pkl\n",
    "import pandas as pd\n",
    "import os\n",
    "import numpy as np"
   ]
  },
  {
   "cell_type": "code",
   "execution_count": 72,
   "outputs": [],
   "source": [
    "df = pd.read_csv(os.path.join('..', 'data', 'filter-data-cleaned.csv'))\n",
    "df = df.drop(columns=['company_name', 'quote_id', 'description', 'qty', 'dimensions', 'item_type', 'Depth', 'Pockets', 'Date'])"
   ],
   "metadata": {
    "collapsed": false,
    "ExecuteTime": {
     "end_time": "2023-12-05T12:16:39.965900Z",
     "start_time": "2023-12-05T12:16:39.943585Z"
    }
   },
   "id": "6365c9afc5c48030"
  },
  {
   "cell_type": "code",
   "execution_count": 73,
   "outputs": [
    {
     "data": {
      "text/plain": "   unit_price filter_efficiency  Length  Height  Gutter\n0         7.5                G4   625.0   500.0    50.0\n1        27.5                F7   625.0   500.0    50.0\n2        28.5                F7   592.0   490.0    48.0\n3        27.5                F7   592.0   592.0    45.0\n4        17.5                F7   287.0   592.0    45.0",
      "text/html": "<div>\n<style scoped>\n    .dataframe tbody tr th:only-of-type {\n        vertical-align: middle;\n    }\n\n    .dataframe tbody tr th {\n        vertical-align: top;\n    }\n\n    .dataframe thead th {\n        text-align: right;\n    }\n</style>\n<table border=\"1\" class=\"dataframe\">\n  <thead>\n    <tr style=\"text-align: right;\">\n      <th></th>\n      <th>unit_price</th>\n      <th>filter_efficiency</th>\n      <th>Length</th>\n      <th>Height</th>\n      <th>Gutter</th>\n    </tr>\n  </thead>\n  <tbody>\n    <tr>\n      <th>0</th>\n      <td>7.5</td>\n      <td>G4</td>\n      <td>625.0</td>\n      <td>500.0</td>\n      <td>50.0</td>\n    </tr>\n    <tr>\n      <th>1</th>\n      <td>27.5</td>\n      <td>F7</td>\n      <td>625.0</td>\n      <td>500.0</td>\n      <td>50.0</td>\n    </tr>\n    <tr>\n      <th>2</th>\n      <td>28.5</td>\n      <td>F7</td>\n      <td>592.0</td>\n      <td>490.0</td>\n      <td>48.0</td>\n    </tr>\n    <tr>\n      <th>3</th>\n      <td>27.5</td>\n      <td>F7</td>\n      <td>592.0</td>\n      <td>592.0</td>\n      <td>45.0</td>\n    </tr>\n    <tr>\n      <th>4</th>\n      <td>17.5</td>\n      <td>F7</td>\n      <td>287.0</td>\n      <td>592.0</td>\n      <td>45.0</td>\n    </tr>\n  </tbody>\n</table>\n</div>"
     },
     "execution_count": 73,
     "metadata": {},
     "output_type": "execute_result"
    }
   ],
   "source": [
    "df.head()"
   ],
   "metadata": {
    "collapsed": false,
    "ExecuteTime": {
     "end_time": "2023-12-05T12:16:39.976261Z",
     "start_time": "2023-12-05T12:16:39.958322Z"
    }
   },
   "id": "9fe59e01090b0d73"
  },
  {
   "cell_type": "markdown",
   "source": [
    "## Train-Test split"
   ],
   "metadata": {
    "collapsed": false
   },
   "id": "ee4f23c5d92b1425"
  },
  {
   "cell_type": "code",
   "execution_count": 74,
   "outputs": [],
   "source": [
    "X = df.drop(columns=['unit_price'])\n",
    "y = df['unit_price']"
   ],
   "metadata": {
    "collapsed": false,
    "ExecuteTime": {
     "end_time": "2023-12-05T12:16:39.976385Z",
     "start_time": "2023-12-05T12:16:39.962610Z"
    }
   },
   "id": "d3285ba39740f41c"
  },
  {
   "cell_type": "code",
   "execution_count": 75,
   "outputs": [],
   "source": [
    "X_train, X_test, y_train, y_test = train_test_split(X, y, test_size=0.2)"
   ],
   "metadata": {
    "collapsed": false,
    "ExecuteTime": {
     "end_time": "2023-12-05T12:16:39.976905Z",
     "start_time": "2023-12-05T12:16:39.967360Z"
    }
   },
   "id": "a4608963e3a7cc80"
  },
  {
   "cell_type": "code",
   "execution_count": 76,
   "outputs": [],
   "source": [
    "ohe = OneHotEncoder(cols=['filter_efficiency'], use_cat_names=True)\n",
    "X_train = ohe.fit_transform(X_train)\n",
    "X_test = ohe.transform(X_test)"
   ],
   "metadata": {
    "collapsed": false,
    "ExecuteTime": {
     "end_time": "2023-12-05T12:16:39.985942Z",
     "start_time": "2023-12-05T12:16:39.970696Z"
    }
   },
   "id": "704c7b759a6437fd"
  },
  {
   "cell_type": "markdown",
   "source": [
    "## Train the best model for all filters"
   ],
   "metadata": {
    "collapsed": false
   },
   "id": "3150d0d5d2d50ef1"
  },
  {
   "cell_type": "code",
   "execution_count": 77,
   "outputs": [
    {
     "name": "stdout",
     "output_type": "stream",
     "text": [
      "30.58%\n"
     ]
    }
   ],
   "source": [
    "model = RandomForestRegressor(n_estimators=100)\n",
    "model.fit(X_train.values, y_train.values)\n",
    "\n",
    "y_pred = model.predict(X_test.values)\n",
    "\n",
    "print(f'{np.mean(np.abs(y_pred - y_test.values) / y_test.values) * 100:.2f}%')"
   ],
   "metadata": {
    "collapsed": false,
    "ExecuteTime": {
     "end_time": "2023-12-05T12:16:40.421520Z",
     "start_time": "2023-12-05T12:16:39.989199Z"
    }
   },
   "id": "93b9e851d8212433"
  },
  {
   "cell_type": "markdown",
   "source": [
    "## Save the model"
   ],
   "metadata": {
    "collapsed": false
   },
   "id": "cc4155945ea1436b"
  },
  {
   "cell_type": "code",
   "execution_count": 78,
   "outputs": [],
   "source": [
    "pkl.dump(model, open(os.path.join('..', 'models', 'best_model_general.pkl'), 'wb'))"
   ],
   "metadata": {
    "collapsed": false,
    "ExecuteTime": {
     "end_time": "2023-12-05T12:16:40.434312Z",
     "start_time": "2023-12-05T12:16:40.421599Z"
    }
   },
   "id": "2ac6b8628db71fac"
  }
 ],
 "metadata": {
  "kernelspec": {
   "display_name": "Python 3",
   "language": "python",
   "name": "python3"
  },
  "language_info": {
   "codemirror_mode": {
    "name": "ipython",
    "version": 2
   },
   "file_extension": ".py",
   "mimetype": "text/x-python",
   "name": "python",
   "nbconvert_exporter": "python",
   "pygments_lexer": "ipython2",
   "version": "2.7.6"
  }
 },
 "nbformat": 4,
 "nbformat_minor": 5
}
