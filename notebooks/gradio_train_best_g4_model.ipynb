{
 "cells": [
  {
   "cell_type": "code",
   "execution_count": 25,
   "outputs": [],
   "source": [
    "from sklearn.ensemble import RandomForestRegressor\n",
    "from sklearn.model_selection import train_test_split\n",
    "from category_encoders import OneHotEncoder\n",
    "\n",
    "import pickle as pkl\n",
    "import pandas as pd\n",
    "import os\n",
    "import numpy as np"
   ],
   "metadata": {
    "collapsed": false,
    "ExecuteTime": {
     "end_time": "2023-12-05T12:16:11.772121Z",
     "start_time": "2023-12-05T12:16:11.744771Z"
    }
   },
   "id": "fede8a0cea5cec38"
  },
  {
   "cell_type": "code",
   "execution_count": 26,
   "outputs": [],
   "source": [
    "df = pd.read_csv(os.path.join('..', 'data', 'filter-data-cleaned.csv'))\n",
    "df = df.drop(columns=['company_name', 'quote_id', 'description', 'qty', 'dimensions', 'item_type', 'Depth', 'Pockets', 'Date'])"
   ],
   "metadata": {
    "collapsed": false,
    "ExecuteTime": {
     "end_time": "2023-12-05T12:16:11.783635Z",
     "start_time": "2023-12-05T12:16:11.749Z"
    }
   },
   "id": "a05a6aeea57a2d89"
  },
  {
   "cell_type": "code",
   "execution_count": 27,
   "outputs": [
    {
     "data": {
      "text/plain": "   unit_price filter_efficiency  Length  Height  Gutter\n0         7.5                G4   625.0   500.0    50.0\n1        27.5                F7   625.0   500.0    50.0\n2        28.5                F7   592.0   490.0    48.0\n3        27.5                F7   592.0   592.0    45.0\n4        17.5                F7   287.0   592.0    45.0",
      "text/html": "<div>\n<style scoped>\n    .dataframe tbody tr th:only-of-type {\n        vertical-align: middle;\n    }\n\n    .dataframe tbody tr th {\n        vertical-align: top;\n    }\n\n    .dataframe thead th {\n        text-align: right;\n    }\n</style>\n<table border=\"1\" class=\"dataframe\">\n  <thead>\n    <tr style=\"text-align: right;\">\n      <th></th>\n      <th>unit_price</th>\n      <th>filter_efficiency</th>\n      <th>Length</th>\n      <th>Height</th>\n      <th>Gutter</th>\n    </tr>\n  </thead>\n  <tbody>\n    <tr>\n      <th>0</th>\n      <td>7.5</td>\n      <td>G4</td>\n      <td>625.0</td>\n      <td>500.0</td>\n      <td>50.0</td>\n    </tr>\n    <tr>\n      <th>1</th>\n      <td>27.5</td>\n      <td>F7</td>\n      <td>625.0</td>\n      <td>500.0</td>\n      <td>50.0</td>\n    </tr>\n    <tr>\n      <th>2</th>\n      <td>28.5</td>\n      <td>F7</td>\n      <td>592.0</td>\n      <td>490.0</td>\n      <td>48.0</td>\n    </tr>\n    <tr>\n      <th>3</th>\n      <td>27.5</td>\n      <td>F7</td>\n      <td>592.0</td>\n      <td>592.0</td>\n      <td>45.0</td>\n    </tr>\n    <tr>\n      <th>4</th>\n      <td>17.5</td>\n      <td>F7</td>\n      <td>287.0</td>\n      <td>592.0</td>\n      <td>45.0</td>\n    </tr>\n  </tbody>\n</table>\n</div>"
     },
     "execution_count": 27,
     "metadata": {},
     "output_type": "execute_result"
    }
   ],
   "source": [
    "df.head()"
   ],
   "metadata": {
    "collapsed": false,
    "ExecuteTime": {
     "end_time": "2023-12-05T12:16:11.796507Z",
     "start_time": "2023-12-05T12:16:11.761362Z"
    }
   },
   "id": "9e92052295b9bf9b"
  },
  {
   "cell_type": "markdown",
   "source": [
    "## Keep only the G4 filters"
   ],
   "metadata": {
    "collapsed": false
   },
   "id": "64150ae92def2760"
  },
  {
   "cell_type": "code",
   "execution_count": 28,
   "outputs": [],
   "source": [
    "df = df[df['filter_efficiency'] == 'G4']"
   ],
   "metadata": {
    "collapsed": false,
    "ExecuteTime": {
     "end_time": "2023-12-05T12:16:11.796639Z",
     "start_time": "2023-12-05T12:16:11.769667Z"
    }
   },
   "id": "2bc65d35ff83870c"
  },
  {
   "cell_type": "markdown",
   "source": [
    "## Train-Test split"
   ],
   "metadata": {
    "collapsed": false
   },
   "id": "4b8e301a7fb3ff21"
  },
  {
   "cell_type": "code",
   "execution_count": 29,
   "outputs": [],
   "source": [
    "X = df.drop(columns=['unit_price'])\n",
    "y = df['unit_price']"
   ],
   "metadata": {
    "collapsed": false,
    "ExecuteTime": {
     "end_time": "2023-12-05T12:16:11.796941Z",
     "start_time": "2023-12-05T12:16:11.774638Z"
    }
   },
   "id": "f6c9dc95846f48df"
  },
  {
   "cell_type": "code",
   "execution_count": 30,
   "outputs": [],
   "source": [
    "X_train, X_test, y_train, y_test = train_test_split(X, y, test_size=0.2)"
   ],
   "metadata": {
    "collapsed": false,
    "ExecuteTime": {
     "end_time": "2023-12-05T12:16:11.797038Z",
     "start_time": "2023-12-05T12:16:11.777588Z"
    }
   },
   "id": "1f5e24ac3e72e739"
  },
  {
   "cell_type": "code",
   "execution_count": 31,
   "outputs": [],
   "source": [
    "ohe = OneHotEncoder(cols=['filter_efficiency'], use_cat_names=True)\n",
    "X_train = ohe.fit_transform(X_train)\n",
    "X_test = ohe.transform(X_test)"
   ],
   "metadata": {
    "collapsed": false,
    "ExecuteTime": {
     "end_time": "2023-12-05T12:16:11.797458Z",
     "start_time": "2023-12-05T12:16:11.782132Z"
    }
   },
   "id": "ff0a4846f7d82f87"
  },
  {
   "cell_type": "markdown",
   "source": [
    "## Train the best model for all filters"
   ],
   "metadata": {
    "collapsed": false
   },
   "id": "3ba692f00efe87bf"
  },
  {
   "cell_type": "code",
   "execution_count": 32,
   "outputs": [
    {
     "name": "stdout",
     "output_type": "stream",
     "text": [
      "12.68%\n"
     ]
    }
   ],
   "source": [
    "model = RandomForestRegressor(n_estimators=100)\n",
    "model.fit(X_train.values, y_train.values)\n",
    "\n",
    "y_pred = model.predict(X_test.values)\n",
    "\n",
    "print(f'{np.mean(np.abs(y_pred - y_test.values) / y_test.values) * 100:.2f}%')"
   ],
   "metadata": {
    "collapsed": false,
    "ExecuteTime": {
     "end_time": "2023-12-05T12:16:12.050902Z",
     "start_time": "2023-12-05T12:16:11.795353Z"
    }
   },
   "id": "e4e5d3d7f25ed708"
  },
  {
   "cell_type": "markdown",
   "source": [
    "## Save the model"
   ],
   "metadata": {
    "collapsed": false
   },
   "id": "e56a7c624d6a8db2"
  },
  {
   "cell_type": "code",
   "execution_count": 33,
   "outputs": [],
   "source": [
    "pkl.dump(model, open(os.path.join('..', 'models', 'best_model_g4.pkl'), 'wb'))"
   ],
   "metadata": {
    "collapsed": false,
    "ExecuteTime": {
     "end_time": "2023-12-05T12:16:12.062486Z",
     "start_time": "2023-12-05T12:16:12.050027Z"
    }
   },
   "id": "f841f9a7c261a05f"
  }
 ],
 "metadata": {
  "kernelspec": {
   "display_name": "Python 3",
   "language": "python",
   "name": "python3"
  },
  "language_info": {
   "codemirror_mode": {
    "name": "ipython",
    "version": 2
   },
   "file_extension": ".py",
   "mimetype": "text/x-python",
   "name": "python",
   "nbconvert_exporter": "python",
   "pygments_lexer": "ipython2",
   "version": "2.7.6"
  }
 },
 "nbformat": 4,
 "nbformat_minor": 5
}
