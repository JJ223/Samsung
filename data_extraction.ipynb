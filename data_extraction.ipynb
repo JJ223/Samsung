{
 "cells": [
  {
   "cell_type": "code",
   "execution_count": 118,
   "id": "initial_id",
   "metadata": {
    "collapsed": true,
    "ExecuteTime": {
     "end_time": "2023-11-17T16:41:50.696632Z",
     "start_time": "2023-11-17T16:41:50.693642Z"
    }
   },
   "outputs": [],
   "source": [
    "import pandas as pd\n",
    "import re\n",
    "import os"
   ]
  },
  {
   "cell_type": "code",
   "execution_count": 119,
   "outputs": [
    {
     "data": {
      "text/plain": "          company_name  quote_id                   description  qty  \\\n0  Municipio do Seixal     22290      Filtros MV/G4.445.622.44  2.0   \n1  Municipio do Seixal     22290      Filtros MV/G4.391.622.44  1.0   \n2  Municipio do Seixal     22290  Filtros F7.592.592.520.25.10  2.0   \n3  Municipio do Seixal     22290  Filtros F7.592.592.520.25.10  2.0   \n4  Municipio do Seixal     22290      Filtros MV/G4.448.448.48  2.0   \n\n   unit_price  \n0       11.50  \n1       11.25  \n2       25.45  \n3       25.45  \n4       10.25  ",
      "text/html": "<div>\n<style scoped>\n    .dataframe tbody tr th:only-of-type {\n        vertical-align: middle;\n    }\n\n    .dataframe tbody tr th {\n        vertical-align: top;\n    }\n\n    .dataframe thead th {\n        text-align: right;\n    }\n</style>\n<table border=\"1\" class=\"dataframe\">\n  <thead>\n    <tr style=\"text-align: right;\">\n      <th></th>\n      <th>company_name</th>\n      <th>quote_id</th>\n      <th>description</th>\n      <th>qty</th>\n      <th>unit_price</th>\n    </tr>\n  </thead>\n  <tbody>\n    <tr>\n      <th>0</th>\n      <td>Municipio do Seixal</td>\n      <td>22290</td>\n      <td>Filtros MV/G4.445.622.44</td>\n      <td>2.0</td>\n      <td>11.50</td>\n    </tr>\n    <tr>\n      <th>1</th>\n      <td>Municipio do Seixal</td>\n      <td>22290</td>\n      <td>Filtros MV/G4.391.622.44</td>\n      <td>1.0</td>\n      <td>11.25</td>\n    </tr>\n    <tr>\n      <th>2</th>\n      <td>Municipio do Seixal</td>\n      <td>22290</td>\n      <td>Filtros F7.592.592.520.25.10</td>\n      <td>2.0</td>\n      <td>25.45</td>\n    </tr>\n    <tr>\n      <th>3</th>\n      <td>Municipio do Seixal</td>\n      <td>22290</td>\n      <td>Filtros F7.592.592.520.25.10</td>\n      <td>2.0</td>\n      <td>25.45</td>\n    </tr>\n    <tr>\n      <th>4</th>\n      <td>Municipio do Seixal</td>\n      <td>22290</td>\n      <td>Filtros MV/G4.448.448.48</td>\n      <td>2.0</td>\n      <td>10.25</td>\n    </tr>\n  </tbody>\n</table>\n</div>"
     },
     "execution_count": 119,
     "metadata": {},
     "output_type": "execute_result"
    }
   ],
   "source": [
    "df = pd.read_csv(os.path.join('budget-data', 'budget-data.csv'))\n",
    "df.head()"
   ],
   "metadata": {
    "collapsed": false,
    "ExecuteTime": {
     "end_time": "2023-11-17T16:41:50.841189Z",
     "start_time": "2023-11-17T16:41:50.832601Z"
    }
   },
   "id": "8ad782f5ab947f4c"
  },
  {
   "cell_type": "code",
   "execution_count": 120,
   "outputs": [],
   "source": [
    "df_old = df\n",
    "df = df_old.copy()"
   ],
   "metadata": {
    "collapsed": false,
    "ExecuteTime": {
     "end_time": "2023-11-17T16:41:50.995724Z",
     "start_time": "2023-11-17T16:41:50.987112Z"
    }
   },
   "id": "c43bdc29af482432"
  },
  {
   "cell_type": "code",
   "execution_count": 121,
   "outputs": [],
   "source": [
    "df = df_old.copy()"
   ],
   "metadata": {
    "collapsed": false,
    "ExecuteTime": {
     "end_time": "2023-11-17T16:41:51.125417Z",
     "start_time": "2023-11-17T16:41:51.123025Z"
    }
   },
   "id": "da734b6a479bc6ae"
  },
  {
   "cell_type": "markdown",
   "source": [
    "## Extract filter types"
   ],
   "metadata": {
    "collapsed": false
   },
   "id": "7b2cd12b2649e488"
  },
  {
   "cell_type": "code",
   "execution_count": 122,
   "outputs": [],
   "source": [
    "def extract_filter_type(description):\n",
    "    regex_filter_types = re.compile(r'\\s?\\.?([G|M|F|H]\\d+)\\.?\\s?')\n",
    "    groups = re.findall(regex_filter_types, description)\n",
    "    \n",
    "    return groups[0] if len(groups) > 0 else None\n",
    "\n",
    "filter_types = df.description.apply(extract_filter_type)\n",
    "df['filter_efficiency'] = filter_types"
   ],
   "metadata": {
    "collapsed": false,
    "ExecuteTime": {
     "end_time": "2023-11-17T16:41:51.731741Z",
     "start_time": "2023-11-17T16:41:51.728966Z"
    }
   },
   "id": "5989e75da45775aa"
  },
  {
   "cell_type": "code",
   "execution_count": 123,
   "outputs": [
    {
     "data": {
      "text/plain": "          company_name  quote_id                   description  qty  \\\n0  Municipio do Seixal     22290      Filtros MV/G4.445.622.44  2.0   \n1  Municipio do Seixal     22290      Filtros MV/G4.391.622.44  1.0   \n2  Municipio do Seixal     22290  Filtros F7.592.592.520.25.10  2.0   \n3  Municipio do Seixal     22290  Filtros F7.592.592.520.25.10  2.0   \n4  Municipio do Seixal     22290      Filtros MV/G4.448.448.48  2.0   \n\n   unit_price filter_efficiency  \n0       11.50                G4  \n1       11.25                G4  \n2       25.45                F7  \n3       25.45                F7  \n4       10.25                G4  ",
      "text/html": "<div>\n<style scoped>\n    .dataframe tbody tr th:only-of-type {\n        vertical-align: middle;\n    }\n\n    .dataframe tbody tr th {\n        vertical-align: top;\n    }\n\n    .dataframe thead th {\n        text-align: right;\n    }\n</style>\n<table border=\"1\" class=\"dataframe\">\n  <thead>\n    <tr style=\"text-align: right;\">\n      <th></th>\n      <th>company_name</th>\n      <th>quote_id</th>\n      <th>description</th>\n      <th>qty</th>\n      <th>unit_price</th>\n      <th>filter_efficiency</th>\n    </tr>\n  </thead>\n  <tbody>\n    <tr>\n      <th>0</th>\n      <td>Municipio do Seixal</td>\n      <td>22290</td>\n      <td>Filtros MV/G4.445.622.44</td>\n      <td>2.0</td>\n      <td>11.50</td>\n      <td>G4</td>\n    </tr>\n    <tr>\n      <th>1</th>\n      <td>Municipio do Seixal</td>\n      <td>22290</td>\n      <td>Filtros MV/G4.391.622.44</td>\n      <td>1.0</td>\n      <td>11.25</td>\n      <td>G4</td>\n    </tr>\n    <tr>\n      <th>2</th>\n      <td>Municipio do Seixal</td>\n      <td>22290</td>\n      <td>Filtros F7.592.592.520.25.10</td>\n      <td>2.0</td>\n      <td>25.45</td>\n      <td>F7</td>\n    </tr>\n    <tr>\n      <th>3</th>\n      <td>Municipio do Seixal</td>\n      <td>22290</td>\n      <td>Filtros F7.592.592.520.25.10</td>\n      <td>2.0</td>\n      <td>25.45</td>\n      <td>F7</td>\n    </tr>\n    <tr>\n      <th>4</th>\n      <td>Municipio do Seixal</td>\n      <td>22290</td>\n      <td>Filtros MV/G4.448.448.48</td>\n      <td>2.0</td>\n      <td>10.25</td>\n      <td>G4</td>\n    </tr>\n  </tbody>\n</table>\n</div>"
     },
     "execution_count": 123,
     "metadata": {},
     "output_type": "execute_result"
    }
   ],
   "source": [
    "df.head()"
   ],
   "metadata": {
    "collapsed": false,
    "ExecuteTime": {
     "end_time": "2023-11-17T16:41:52.155977Z",
     "start_time": "2023-11-17T16:41:52.146841Z"
    }
   },
   "id": "ea74351a92e40ef3"
  },
  {
   "cell_type": "markdown",
   "source": [
    "## Extract item types"
   ],
   "metadata": {
    "collapsed": false
   },
   "id": "78a26f0a5855d557"
  },
  {
   "cell_type": "code",
   "execution_count": 124,
   "outputs": [],
   "source": [
    "def extract_type(i):\n",
    "    if 'filtro' in i.lower():\n",
    "        return 'Filtro'\n",
    "    elif 'rolo' in i.lower():\n",
    "        return 'Rolo'\n",
    "    elif 'manta' in i.lower():\n",
    "        return 'Manta'\n",
    "    else:\n",
    "        return None\n",
    "\n",
    "df['item_type'] = df['description'].apply(extract_type)"
   ],
   "metadata": {
    "collapsed": false,
    "ExecuteTime": {
     "end_time": "2023-11-17T16:42:06.310828Z",
     "start_time": "2023-11-17T16:42:06.304589Z"
    }
   },
   "id": "546509de8117ee95"
  },
  {
   "cell_type": "code",
   "execution_count": 125,
   "outputs": [
    {
     "data": {
      "text/plain": "            company_name  quote_id                   description   qty  \\\n0    Municipio do Seixal     22290      Filtros MV/G4.445.622.44   2.0   \n1    Municipio do Seixal     22290      Filtros MV/G4.391.622.44   1.0   \n2    Municipio do Seixal     22290  Filtros F7.592.592.520.25.10   2.0   \n3    Municipio do Seixal     22290  Filtros F7.592.592.520.25.10   2.0   \n4    Municipio do Seixal     22290      Filtros MV/G4.448.448.48   2.0   \n..                   ...       ...                           ...   ...   \n782                 ATM      18579      Filtros MV/G4.630.495.48   2.0   \n783                 ATM      18579     Filtros MV/G4.875.670.145   1.0   \n784                 ATM      18579   Filtros F7.592.592.500.25.7  13.0   \n785                 ATM      18579   Filtros F7.287.592.500.25.4   2.0   \n786                 ATM      18579   Filtros F7.592.287.500.25.7   1.0   \n\n     unit_price filter_efficiency item_type  \n0         11.50                G4    Filtro  \n1         11.25                G4    Filtro  \n2         25.45                F7    Filtro  \n3         25.45                F7    Filtro  \n4         10.25                G4    Filtro  \n..          ...               ...       ...  \n782        7.80                G4    Filtro  \n783       27.50                G4    Filtro  \n784       14.95                F7    Filtro  \n785       11.95                F7    Filtro  \n786       14.50                F7    Filtro  \n\n[787 rows x 7 columns]",
      "text/html": "<div>\n<style scoped>\n    .dataframe tbody tr th:only-of-type {\n        vertical-align: middle;\n    }\n\n    .dataframe tbody tr th {\n        vertical-align: top;\n    }\n\n    .dataframe thead th {\n        text-align: right;\n    }\n</style>\n<table border=\"1\" class=\"dataframe\">\n  <thead>\n    <tr style=\"text-align: right;\">\n      <th></th>\n      <th>company_name</th>\n      <th>quote_id</th>\n      <th>description</th>\n      <th>qty</th>\n      <th>unit_price</th>\n      <th>filter_efficiency</th>\n      <th>item_type</th>\n    </tr>\n  </thead>\n  <tbody>\n    <tr>\n      <th>0</th>\n      <td>Municipio do Seixal</td>\n      <td>22290</td>\n      <td>Filtros MV/G4.445.622.44</td>\n      <td>2.0</td>\n      <td>11.50</td>\n      <td>G4</td>\n      <td>Filtro</td>\n    </tr>\n    <tr>\n      <th>1</th>\n      <td>Municipio do Seixal</td>\n      <td>22290</td>\n      <td>Filtros MV/G4.391.622.44</td>\n      <td>1.0</td>\n      <td>11.25</td>\n      <td>G4</td>\n      <td>Filtro</td>\n    </tr>\n    <tr>\n      <th>2</th>\n      <td>Municipio do Seixal</td>\n      <td>22290</td>\n      <td>Filtros F7.592.592.520.25.10</td>\n      <td>2.0</td>\n      <td>25.45</td>\n      <td>F7</td>\n      <td>Filtro</td>\n    </tr>\n    <tr>\n      <th>3</th>\n      <td>Municipio do Seixal</td>\n      <td>22290</td>\n      <td>Filtros F7.592.592.520.25.10</td>\n      <td>2.0</td>\n      <td>25.45</td>\n      <td>F7</td>\n      <td>Filtro</td>\n    </tr>\n    <tr>\n      <th>4</th>\n      <td>Municipio do Seixal</td>\n      <td>22290</td>\n      <td>Filtros MV/G4.448.448.48</td>\n      <td>2.0</td>\n      <td>10.25</td>\n      <td>G4</td>\n      <td>Filtro</td>\n    </tr>\n    <tr>\n      <th>...</th>\n      <td>...</td>\n      <td>...</td>\n      <td>...</td>\n      <td>...</td>\n      <td>...</td>\n      <td>...</td>\n      <td>...</td>\n    </tr>\n    <tr>\n      <th>782</th>\n      <td>ATM</td>\n      <td>18579</td>\n      <td>Filtros MV/G4.630.495.48</td>\n      <td>2.0</td>\n      <td>7.80</td>\n      <td>G4</td>\n      <td>Filtro</td>\n    </tr>\n    <tr>\n      <th>783</th>\n      <td>ATM</td>\n      <td>18579</td>\n      <td>Filtros MV/G4.875.670.145</td>\n      <td>1.0</td>\n      <td>27.50</td>\n      <td>G4</td>\n      <td>Filtro</td>\n    </tr>\n    <tr>\n      <th>784</th>\n      <td>ATM</td>\n      <td>18579</td>\n      <td>Filtros F7.592.592.500.25.7</td>\n      <td>13.0</td>\n      <td>14.95</td>\n      <td>F7</td>\n      <td>Filtro</td>\n    </tr>\n    <tr>\n      <th>785</th>\n      <td>ATM</td>\n      <td>18579</td>\n      <td>Filtros F7.287.592.500.25.4</td>\n      <td>2.0</td>\n      <td>11.95</td>\n      <td>F7</td>\n      <td>Filtro</td>\n    </tr>\n    <tr>\n      <th>786</th>\n      <td>ATM</td>\n      <td>18579</td>\n      <td>Filtros F7.592.287.500.25.7</td>\n      <td>1.0</td>\n      <td>14.50</td>\n      <td>F7</td>\n      <td>Filtro</td>\n    </tr>\n  </tbody>\n</table>\n<p>787 rows × 7 columns</p>\n</div>"
     },
     "execution_count": 125,
     "metadata": {},
     "output_type": "execute_result"
    }
   ],
   "source": [
    "df"
   ],
   "metadata": {
    "collapsed": false,
    "ExecuteTime": {
     "end_time": "2023-11-17T16:42:06.958140Z",
     "start_time": "2023-11-17T16:42:06.945714Z"
    }
   },
   "id": "94ca9fb554516963"
  },
  {
   "cell_type": "markdown",
   "source": [
    "## Extract filter sizes"
   ],
   "metadata": {
    "collapsed": false
   },
   "id": "f2f164fa6fc0ba28"
  },
  {
   "cell_type": "code",
   "execution_count": 126,
   "outputs": [],
   "source": [
    "def extract_raw_dimensions(description):\n",
    "    regex_dimensions = re.compile(r'[\\s|\\.]((?:\\d+\\.)+(?:\\d+))')\n",
    "    \n",
    "    matches = re.findall(regex_dimensions, description)\n",
    "    \n",
    "    return '.'.join(matches) if len(matches) > 0 else None\n",
    "\n",
    "df['dimensions'] = df['description'].apply(extract_raw_dimensions)\n"
   ],
   "metadata": {
    "collapsed": false,
    "ExecuteTime": {
     "end_time": "2023-11-17T16:42:15.996678Z",
     "start_time": "2023-11-17T16:42:15.993464Z"
    }
   },
   "id": "28178ef9233548be"
  },
  {
   "cell_type": "code",
   "execution_count": 127,
   "outputs": [],
   "source": [
    "def extract_refined_dimensions(raw_dimension):\n",
    "    if raw_dimension is None:\n",
    "        return None\n",
    "    \n",
    "    dimensions = raw_dimension.split('.')\n",
    "    \n",
    "    if len(dimensions) == 3:\n",
    "        return {\n",
    "            'L': int(dimensions[0]),\n",
    "            'H': int(dimensions[1]),\n",
    "            'G': int(dimensions[2]),\n",
    "            'D': None,\n",
    "            'P': None\n",
    "        }\n",
    "    elif len(dimensions) == 5:\n",
    "        return {\n",
    "            'L': int(dimensions[0]),\n",
    "            'H': int(dimensions[1]),\n",
    "            'G': int(dimensions[3]),\n",
    "            'D': int(dimensions[2]),\n",
    "            'P': int(dimensions[4])\n",
    "        }\n",
    "    else:\n",
    "        return None\n",
    "    \n",
    "refined_dimensions: dict = df['dimensions'].apply(extract_refined_dimensions)\n",
    "\n",
    "length_values = refined_dimensions.apply(lambda x: x['L'] if x is not None else None)\n",
    "height_values = refined_dimensions.apply(lambda x: x['H'] if x is not None else None)\n",
    "gutter_dimensions = refined_dimensions.apply(lambda x: x['G'] if x is not None else None)\n",
    "depth_values = refined_dimensions.apply(lambda x: x['D'] if x is not None else None)\n",
    "pockets_values = refined_dimensions.apply(lambda x: x['P'] if x is not None else None)\n",
    "\n",
    "df['Length'] = length_values\n",
    "df['Height'] = height_values\n",
    "df['Gutter'] = gutter_dimensions\n",
    "df['Depth'] = depth_values\n",
    "df['Pockets'] = pockets_values"
   ],
   "metadata": {
    "collapsed": false,
    "ExecuteTime": {
     "end_time": "2023-11-17T16:42:17.101726Z",
     "start_time": "2023-11-17T16:42:17.095955Z"
    }
   },
   "id": "37325fbb1cc19935"
  },
  {
   "cell_type": "code",
   "execution_count": 136,
   "outputs": [
    {
     "data": {
      "text/plain": "            company_name  quote_id                   description   qty  \\\n0    Municipio do Seixal     22290      Filtros MV/G4.445.622.44   2.0   \n1    Municipio do Seixal     22290      Filtros MV/G4.391.622.44   1.0   \n2    Municipio do Seixal     22290  Filtros F7.592.592.520.25.10   2.0   \n3    Municipio do Seixal     22290  Filtros F7.592.592.520.25.10   2.0   \n4    Municipio do Seixal     22290      Filtros MV/G4.448.448.48   2.0   \n..                   ...       ...                           ...   ...   \n782                 ATM      18579      Filtros MV/G4.630.495.48   2.0   \n783                 ATM      18579     Filtros MV/G4.875.670.145   1.0   \n784                 ATM      18579   Filtros F7.592.592.500.25.7  13.0   \n785                 ATM      18579   Filtros F7.287.592.500.25.4   2.0   \n786                 ATM      18579   Filtros F7.592.287.500.25.7   1.0   \n\n     unit_price filter_efficiency item_type         dimensions  Length  \\\n0         11.50                G4    Filtro         445.622.44   445.0   \n1         11.25                G4    Filtro         391.622.44   391.0   \n2         25.45                F7    Filtro  592.592.520.25.10   592.0   \n3         25.45                F7    Filtro  592.592.520.25.10   592.0   \n4         10.25                G4    Filtro         448.448.48   448.0   \n..          ...               ...       ...                ...     ...   \n782        7.80                G4    Filtro         630.495.48   630.0   \n783       27.50                G4    Filtro        875.670.145   875.0   \n784       14.95                F7    Filtro   592.592.500.25.7   592.0   \n785       11.95                F7    Filtro   287.592.500.25.4   287.0   \n786       14.50                F7    Filtro   592.287.500.25.7   592.0   \n\n     Height  Gutter  Depth  Pockets  \n0     622.0    44.0    NaN      NaN  \n1     622.0    44.0    NaN      NaN  \n2     592.0    25.0  520.0     10.0  \n3     592.0    25.0  520.0     10.0  \n4     448.0    48.0    NaN      NaN  \n..      ...     ...    ...      ...  \n782   495.0    48.0    NaN      NaN  \n783   670.0   145.0    NaN      NaN  \n784   592.0    25.0  500.0      7.0  \n785   592.0    25.0  500.0      4.0  \n786   287.0    25.0  500.0      7.0  \n\n[787 rows x 13 columns]",
      "text/html": "<div>\n<style scoped>\n    .dataframe tbody tr th:only-of-type {\n        vertical-align: middle;\n    }\n\n    .dataframe tbody tr th {\n        vertical-align: top;\n    }\n\n    .dataframe thead th {\n        text-align: right;\n    }\n</style>\n<table border=\"1\" class=\"dataframe\">\n  <thead>\n    <tr style=\"text-align: right;\">\n      <th></th>\n      <th>company_name</th>\n      <th>quote_id</th>\n      <th>description</th>\n      <th>qty</th>\n      <th>unit_price</th>\n      <th>filter_efficiency</th>\n      <th>item_type</th>\n      <th>dimensions</th>\n      <th>Length</th>\n      <th>Height</th>\n      <th>Gutter</th>\n      <th>Depth</th>\n      <th>Pockets</th>\n    </tr>\n  </thead>\n  <tbody>\n    <tr>\n      <th>0</th>\n      <td>Municipio do Seixal</td>\n      <td>22290</td>\n      <td>Filtros MV/G4.445.622.44</td>\n      <td>2.0</td>\n      <td>11.50</td>\n      <td>G4</td>\n      <td>Filtro</td>\n      <td>445.622.44</td>\n      <td>445.0</td>\n      <td>622.0</td>\n      <td>44.0</td>\n      <td>NaN</td>\n      <td>NaN</td>\n    </tr>\n    <tr>\n      <th>1</th>\n      <td>Municipio do Seixal</td>\n      <td>22290</td>\n      <td>Filtros MV/G4.391.622.44</td>\n      <td>1.0</td>\n      <td>11.25</td>\n      <td>G4</td>\n      <td>Filtro</td>\n      <td>391.622.44</td>\n      <td>391.0</td>\n      <td>622.0</td>\n      <td>44.0</td>\n      <td>NaN</td>\n      <td>NaN</td>\n    </tr>\n    <tr>\n      <th>2</th>\n      <td>Municipio do Seixal</td>\n      <td>22290</td>\n      <td>Filtros F7.592.592.520.25.10</td>\n      <td>2.0</td>\n      <td>25.45</td>\n      <td>F7</td>\n      <td>Filtro</td>\n      <td>592.592.520.25.10</td>\n      <td>592.0</td>\n      <td>592.0</td>\n      <td>25.0</td>\n      <td>520.0</td>\n      <td>10.0</td>\n    </tr>\n    <tr>\n      <th>3</th>\n      <td>Municipio do Seixal</td>\n      <td>22290</td>\n      <td>Filtros F7.592.592.520.25.10</td>\n      <td>2.0</td>\n      <td>25.45</td>\n      <td>F7</td>\n      <td>Filtro</td>\n      <td>592.592.520.25.10</td>\n      <td>592.0</td>\n      <td>592.0</td>\n      <td>25.0</td>\n      <td>520.0</td>\n      <td>10.0</td>\n    </tr>\n    <tr>\n      <th>4</th>\n      <td>Municipio do Seixal</td>\n      <td>22290</td>\n      <td>Filtros MV/G4.448.448.48</td>\n      <td>2.0</td>\n      <td>10.25</td>\n      <td>G4</td>\n      <td>Filtro</td>\n      <td>448.448.48</td>\n      <td>448.0</td>\n      <td>448.0</td>\n      <td>48.0</td>\n      <td>NaN</td>\n      <td>NaN</td>\n    </tr>\n    <tr>\n      <th>...</th>\n      <td>...</td>\n      <td>...</td>\n      <td>...</td>\n      <td>...</td>\n      <td>...</td>\n      <td>...</td>\n      <td>...</td>\n      <td>...</td>\n      <td>...</td>\n      <td>...</td>\n      <td>...</td>\n      <td>...</td>\n      <td>...</td>\n    </tr>\n    <tr>\n      <th>782</th>\n      <td>ATM</td>\n      <td>18579</td>\n      <td>Filtros MV/G4.630.495.48</td>\n      <td>2.0</td>\n      <td>7.80</td>\n      <td>G4</td>\n      <td>Filtro</td>\n      <td>630.495.48</td>\n      <td>630.0</td>\n      <td>495.0</td>\n      <td>48.0</td>\n      <td>NaN</td>\n      <td>NaN</td>\n    </tr>\n    <tr>\n      <th>783</th>\n      <td>ATM</td>\n      <td>18579</td>\n      <td>Filtros MV/G4.875.670.145</td>\n      <td>1.0</td>\n      <td>27.50</td>\n      <td>G4</td>\n      <td>Filtro</td>\n      <td>875.670.145</td>\n      <td>875.0</td>\n      <td>670.0</td>\n      <td>145.0</td>\n      <td>NaN</td>\n      <td>NaN</td>\n    </tr>\n    <tr>\n      <th>784</th>\n      <td>ATM</td>\n      <td>18579</td>\n      <td>Filtros F7.592.592.500.25.7</td>\n      <td>13.0</td>\n      <td>14.95</td>\n      <td>F7</td>\n      <td>Filtro</td>\n      <td>592.592.500.25.7</td>\n      <td>592.0</td>\n      <td>592.0</td>\n      <td>25.0</td>\n      <td>500.0</td>\n      <td>7.0</td>\n    </tr>\n    <tr>\n      <th>785</th>\n      <td>ATM</td>\n      <td>18579</td>\n      <td>Filtros F7.287.592.500.25.4</td>\n      <td>2.0</td>\n      <td>11.95</td>\n      <td>F7</td>\n      <td>Filtro</td>\n      <td>287.592.500.25.4</td>\n      <td>287.0</td>\n      <td>592.0</td>\n      <td>25.0</td>\n      <td>500.0</td>\n      <td>4.0</td>\n    </tr>\n    <tr>\n      <th>786</th>\n      <td>ATM</td>\n      <td>18579</td>\n      <td>Filtros F7.592.287.500.25.7</td>\n      <td>1.0</td>\n      <td>14.50</td>\n      <td>F7</td>\n      <td>Filtro</td>\n      <td>592.287.500.25.7</td>\n      <td>592.0</td>\n      <td>287.0</td>\n      <td>25.0</td>\n      <td>500.0</td>\n      <td>7.0</td>\n    </tr>\n  </tbody>\n</table>\n<p>787 rows × 13 columns</p>\n</div>"
     },
     "execution_count": 136,
     "metadata": {},
     "output_type": "execute_result"
    }
   ],
   "source": [
    "df"
   ],
   "metadata": {
    "collapsed": false,
    "ExecuteTime": {
     "end_time": "2023-11-17T16:47:21.265843Z",
     "start_time": "2023-11-17T16:47:21.252940Z"
    }
   },
   "id": "994ca521358b388a"
  },
  {
   "cell_type": "markdown",
   "source": [
    "# Experimental\n",
    "\n",
    "## Differentiate between 'normal' 3-dimension filter and 5-dimension filter\n",
    "\n",
    "- 3-dimension filter will be called: standard_filter\n",
    "- 5-dimension filter will be called: pocket_filter "
   ],
   "metadata": {
    "collapsed": false
   },
   "id": "7dec598bfef2181f"
  },
  {
   "cell_type": "code",
   "execution_count": 137,
   "outputs": [],
   "source": [
    "def extract_filter_type_from_dimensions(item):\n",
    "    if item['dimensions'] is None:\n",
    "        return item['item_type']\n",
    "    \n",
    "    dimension_count = len(item['dimensions'].split('.'))\n",
    "    \n",
    "    if dimension_count == 3:\n",
    "        return 'standard_filter'\n",
    "    elif dimension_count == 5:\n",
    "        return 'pocketed_filter'\n",
    "    else:\n",
    "        return item['item_type']\n",
    "\n",
    "df_experimental = df.copy()\n",
    "df_experimental['item_type'] = df_experimental.apply(extract_filter_type_from_dimensions, axis=1)"
   ],
   "metadata": {
    "collapsed": false,
    "ExecuteTime": {
     "end_time": "2023-11-17T16:47:30.312659Z",
     "start_time": "2023-11-17T16:47:30.298114Z"
    }
   },
   "id": "9dffb15d43d15dc1"
  },
  {
   "cell_type": "code",
   "execution_count": 138,
   "outputs": [
    {
     "data": {
      "text/plain": "          company_name  quote_id                   description  qty  \\\n0  Municipio do Seixal     22290      Filtros MV/G4.445.622.44  2.0   \n1  Municipio do Seixal     22290      Filtros MV/G4.391.622.44  1.0   \n2  Municipio do Seixal     22290  Filtros F7.592.592.520.25.10  2.0   \n3  Municipio do Seixal     22290  Filtros F7.592.592.520.25.10  2.0   \n4  Municipio do Seixal     22290      Filtros MV/G4.448.448.48  2.0   \n\n   unit_price filter_efficiency        item_type         dimensions  Length  \\\n0       11.50                G4  standard_filter         445.622.44   445.0   \n1       11.25                G4  standard_filter         391.622.44   391.0   \n2       25.45                F7  pocketed_filter  592.592.520.25.10   592.0   \n3       25.45                F7  pocketed_filter  592.592.520.25.10   592.0   \n4       10.25                G4  standard_filter         448.448.48   448.0   \n\n   Height  Gutter  Depth  Pockets  \n0   622.0    44.0    NaN      NaN  \n1   622.0    44.0    NaN      NaN  \n2   592.0    25.0  520.0     10.0  \n3   592.0    25.0  520.0     10.0  \n4   448.0    48.0    NaN      NaN  ",
      "text/html": "<div>\n<style scoped>\n    .dataframe tbody tr th:only-of-type {\n        vertical-align: middle;\n    }\n\n    .dataframe tbody tr th {\n        vertical-align: top;\n    }\n\n    .dataframe thead th {\n        text-align: right;\n    }\n</style>\n<table border=\"1\" class=\"dataframe\">\n  <thead>\n    <tr style=\"text-align: right;\">\n      <th></th>\n      <th>company_name</th>\n      <th>quote_id</th>\n      <th>description</th>\n      <th>qty</th>\n      <th>unit_price</th>\n      <th>filter_efficiency</th>\n      <th>item_type</th>\n      <th>dimensions</th>\n      <th>Length</th>\n      <th>Height</th>\n      <th>Gutter</th>\n      <th>Depth</th>\n      <th>Pockets</th>\n    </tr>\n  </thead>\n  <tbody>\n    <tr>\n      <th>0</th>\n      <td>Municipio do Seixal</td>\n      <td>22290</td>\n      <td>Filtros MV/G4.445.622.44</td>\n      <td>2.0</td>\n      <td>11.50</td>\n      <td>G4</td>\n      <td>standard_filter</td>\n      <td>445.622.44</td>\n      <td>445.0</td>\n      <td>622.0</td>\n      <td>44.0</td>\n      <td>NaN</td>\n      <td>NaN</td>\n    </tr>\n    <tr>\n      <th>1</th>\n      <td>Municipio do Seixal</td>\n      <td>22290</td>\n      <td>Filtros MV/G4.391.622.44</td>\n      <td>1.0</td>\n      <td>11.25</td>\n      <td>G4</td>\n      <td>standard_filter</td>\n      <td>391.622.44</td>\n      <td>391.0</td>\n      <td>622.0</td>\n      <td>44.0</td>\n      <td>NaN</td>\n      <td>NaN</td>\n    </tr>\n    <tr>\n      <th>2</th>\n      <td>Municipio do Seixal</td>\n      <td>22290</td>\n      <td>Filtros F7.592.592.520.25.10</td>\n      <td>2.0</td>\n      <td>25.45</td>\n      <td>F7</td>\n      <td>pocketed_filter</td>\n      <td>592.592.520.25.10</td>\n      <td>592.0</td>\n      <td>592.0</td>\n      <td>25.0</td>\n      <td>520.0</td>\n      <td>10.0</td>\n    </tr>\n    <tr>\n      <th>3</th>\n      <td>Municipio do Seixal</td>\n      <td>22290</td>\n      <td>Filtros F7.592.592.520.25.10</td>\n      <td>2.0</td>\n      <td>25.45</td>\n      <td>F7</td>\n      <td>pocketed_filter</td>\n      <td>592.592.520.25.10</td>\n      <td>592.0</td>\n      <td>592.0</td>\n      <td>25.0</td>\n      <td>520.0</td>\n      <td>10.0</td>\n    </tr>\n    <tr>\n      <th>4</th>\n      <td>Municipio do Seixal</td>\n      <td>22290</td>\n      <td>Filtros MV/G4.448.448.48</td>\n      <td>2.0</td>\n      <td>10.25</td>\n      <td>G4</td>\n      <td>standard_filter</td>\n      <td>448.448.48</td>\n      <td>448.0</td>\n      <td>448.0</td>\n      <td>48.0</td>\n      <td>NaN</td>\n      <td>NaN</td>\n    </tr>\n  </tbody>\n</table>\n</div>"
     },
     "execution_count": 138,
     "metadata": {},
     "output_type": "execute_result"
    }
   ],
   "source": [
    "df_experimental.head()"
   ],
   "metadata": {
    "collapsed": false,
    "ExecuteTime": {
     "end_time": "2023-11-17T16:47:30.475149Z",
     "start_time": "2023-11-17T16:47:30.471400Z"
    }
   },
   "id": "dade01c6e1aa6461"
  },
  {
   "cell_type": "code",
   "execution_count": 139,
   "outputs": [
    {
     "data": {
      "text/plain": "item_type\nstandard_filter    472\npocketed_filter    251\nFiltro              12\nRolo                 6\nManta                1\nName: count, dtype: int64"
     },
     "execution_count": 139,
     "metadata": {},
     "output_type": "execute_result"
    }
   ],
   "source": [
    "df_experimental.item_type.value_counts()"
   ],
   "metadata": {
    "collapsed": false,
    "ExecuteTime": {
     "end_time": "2023-11-17T16:47:31.371006Z",
     "start_time": "2023-11-17T16:47:31.362442Z"
    }
   },
   "id": "34a2de0a0fcf4f76"
  },
  {
   "cell_type": "code",
   "execution_count": 140,
   "outputs": [
    {
     "data": {
      "text/plain": "           company_name  quote_id                     description    qty  \\\n269             Faclima     18591   Filtros MP/G3.(1095.185.15)/2    1.0   \n270             Faclima     18591    Filtros MP/G3.(895.185.15)/2    9.0   \n271             Faclima     18591    Filtros MP/G3.(695.185.15)/2   10.0   \n301              Lennox     22260        Filtros F7.287.592.670.7    2.0   \n302              Lennox     22260        Filtros F7.592.287.670.3    4.0   \n303              Lennox     22260        Filtros F7.592.592.520.6   16.0   \n304              Lennox     22260        Filtros F7.287.592.670.5   10.0   \n305              Lennox     22260       Filtros F7.592.592.670.10   10.0   \n306              Lennox     22260        Filtros F7.592.592.670.6    4.0   \n503                Race     18611         Filtros MV/G4.592.59248  200.0   \n662  Colégio o Preguiça     18569  Filtros F8.592.592.500.20.25.7    9.0   \n666          Sotécnica     18570    Filtros F7.592.592.380.25..8   87.0   \n\n     unit_price filter_efficiency item_type           dimensions  Length  \\\n269       12.50                G3    Filtro               185.15     NaN   \n270       10.50                G3    Filtro               185.15     NaN   \n271        9.50                G3    Filtro               185.15     NaN   \n301       16.50                F7    Filtro        287.592.670.7     NaN   \n302       15.50                F7    Filtro        592.287.670.3     NaN   \n303       17.50                F7    Filtro        592.592.520.6     NaN   \n304       18.50                F7    Filtro        287.592.670.5     NaN   \n305       24.50                F7    Filtro       592.592.670.10     NaN   \n306       19.50                F7    Filtro        592.592.670.6     NaN   \n503        7.45                G4    Filtro            592.59248     NaN   \n662       22.50                F8    Filtro  592.592.500.20.25.7     NaN   \n666       11.50                F7    Filtro       592.592.380.25     NaN   \n\n     Height  Gutter  Depth  Pockets  \n269     NaN     NaN    NaN      NaN  \n270     NaN     NaN    NaN      NaN  \n271     NaN     NaN    NaN      NaN  \n301     NaN     NaN    NaN      NaN  \n302     NaN     NaN    NaN      NaN  \n303     NaN     NaN    NaN      NaN  \n304     NaN     NaN    NaN      NaN  \n305     NaN     NaN    NaN      NaN  \n306     NaN     NaN    NaN      NaN  \n503     NaN     NaN    NaN      NaN  \n662     NaN     NaN    NaN      NaN  \n666     NaN     NaN    NaN      NaN  ",
      "text/html": "<div>\n<style scoped>\n    .dataframe tbody tr th:only-of-type {\n        vertical-align: middle;\n    }\n\n    .dataframe tbody tr th {\n        vertical-align: top;\n    }\n\n    .dataframe thead th {\n        text-align: right;\n    }\n</style>\n<table border=\"1\" class=\"dataframe\">\n  <thead>\n    <tr style=\"text-align: right;\">\n      <th></th>\n      <th>company_name</th>\n      <th>quote_id</th>\n      <th>description</th>\n      <th>qty</th>\n      <th>unit_price</th>\n      <th>filter_efficiency</th>\n      <th>item_type</th>\n      <th>dimensions</th>\n      <th>Length</th>\n      <th>Height</th>\n      <th>Gutter</th>\n      <th>Depth</th>\n      <th>Pockets</th>\n    </tr>\n  </thead>\n  <tbody>\n    <tr>\n      <th>269</th>\n      <td>Faclima</td>\n      <td>18591</td>\n      <td>Filtros MP/G3.(1095.185.15)/2</td>\n      <td>1.0</td>\n      <td>12.50</td>\n      <td>G3</td>\n      <td>Filtro</td>\n      <td>185.15</td>\n      <td>NaN</td>\n      <td>NaN</td>\n      <td>NaN</td>\n      <td>NaN</td>\n      <td>NaN</td>\n    </tr>\n    <tr>\n      <th>270</th>\n      <td>Faclima</td>\n      <td>18591</td>\n      <td>Filtros MP/G3.(895.185.15)/2</td>\n      <td>9.0</td>\n      <td>10.50</td>\n      <td>G3</td>\n      <td>Filtro</td>\n      <td>185.15</td>\n      <td>NaN</td>\n      <td>NaN</td>\n      <td>NaN</td>\n      <td>NaN</td>\n      <td>NaN</td>\n    </tr>\n    <tr>\n      <th>271</th>\n      <td>Faclima</td>\n      <td>18591</td>\n      <td>Filtros MP/G3.(695.185.15)/2</td>\n      <td>10.0</td>\n      <td>9.50</td>\n      <td>G3</td>\n      <td>Filtro</td>\n      <td>185.15</td>\n      <td>NaN</td>\n      <td>NaN</td>\n      <td>NaN</td>\n      <td>NaN</td>\n      <td>NaN</td>\n    </tr>\n    <tr>\n      <th>301</th>\n      <td>Lennox</td>\n      <td>22260</td>\n      <td>Filtros F7.287.592.670.7</td>\n      <td>2.0</td>\n      <td>16.50</td>\n      <td>F7</td>\n      <td>Filtro</td>\n      <td>287.592.670.7</td>\n      <td>NaN</td>\n      <td>NaN</td>\n      <td>NaN</td>\n      <td>NaN</td>\n      <td>NaN</td>\n    </tr>\n    <tr>\n      <th>302</th>\n      <td>Lennox</td>\n      <td>22260</td>\n      <td>Filtros F7.592.287.670.3</td>\n      <td>4.0</td>\n      <td>15.50</td>\n      <td>F7</td>\n      <td>Filtro</td>\n      <td>592.287.670.3</td>\n      <td>NaN</td>\n      <td>NaN</td>\n      <td>NaN</td>\n      <td>NaN</td>\n      <td>NaN</td>\n    </tr>\n    <tr>\n      <th>303</th>\n      <td>Lennox</td>\n      <td>22260</td>\n      <td>Filtros F7.592.592.520.6</td>\n      <td>16.0</td>\n      <td>17.50</td>\n      <td>F7</td>\n      <td>Filtro</td>\n      <td>592.592.520.6</td>\n      <td>NaN</td>\n      <td>NaN</td>\n      <td>NaN</td>\n      <td>NaN</td>\n      <td>NaN</td>\n    </tr>\n    <tr>\n      <th>304</th>\n      <td>Lennox</td>\n      <td>22260</td>\n      <td>Filtros F7.287.592.670.5</td>\n      <td>10.0</td>\n      <td>18.50</td>\n      <td>F7</td>\n      <td>Filtro</td>\n      <td>287.592.670.5</td>\n      <td>NaN</td>\n      <td>NaN</td>\n      <td>NaN</td>\n      <td>NaN</td>\n      <td>NaN</td>\n    </tr>\n    <tr>\n      <th>305</th>\n      <td>Lennox</td>\n      <td>22260</td>\n      <td>Filtros F7.592.592.670.10</td>\n      <td>10.0</td>\n      <td>24.50</td>\n      <td>F7</td>\n      <td>Filtro</td>\n      <td>592.592.670.10</td>\n      <td>NaN</td>\n      <td>NaN</td>\n      <td>NaN</td>\n      <td>NaN</td>\n      <td>NaN</td>\n    </tr>\n    <tr>\n      <th>306</th>\n      <td>Lennox</td>\n      <td>22260</td>\n      <td>Filtros F7.592.592.670.6</td>\n      <td>4.0</td>\n      <td>19.50</td>\n      <td>F7</td>\n      <td>Filtro</td>\n      <td>592.592.670.6</td>\n      <td>NaN</td>\n      <td>NaN</td>\n      <td>NaN</td>\n      <td>NaN</td>\n      <td>NaN</td>\n    </tr>\n    <tr>\n      <th>503</th>\n      <td>Race</td>\n      <td>18611</td>\n      <td>Filtros MV/G4.592.59248</td>\n      <td>200.0</td>\n      <td>7.45</td>\n      <td>G4</td>\n      <td>Filtro</td>\n      <td>592.59248</td>\n      <td>NaN</td>\n      <td>NaN</td>\n      <td>NaN</td>\n      <td>NaN</td>\n      <td>NaN</td>\n    </tr>\n    <tr>\n      <th>662</th>\n      <td>Colégio o Preguiça</td>\n      <td>18569</td>\n      <td>Filtros F8.592.592.500.20.25.7</td>\n      <td>9.0</td>\n      <td>22.50</td>\n      <td>F8</td>\n      <td>Filtro</td>\n      <td>592.592.500.20.25.7</td>\n      <td>NaN</td>\n      <td>NaN</td>\n      <td>NaN</td>\n      <td>NaN</td>\n      <td>NaN</td>\n    </tr>\n    <tr>\n      <th>666</th>\n      <td>Sotécnica</td>\n      <td>18570</td>\n      <td>Filtros F7.592.592.380.25..8</td>\n      <td>87.0</td>\n      <td>11.50</td>\n      <td>F7</td>\n      <td>Filtro</td>\n      <td>592.592.380.25</td>\n      <td>NaN</td>\n      <td>NaN</td>\n      <td>NaN</td>\n      <td>NaN</td>\n      <td>NaN</td>\n    </tr>\n  </tbody>\n</table>\n</div>"
     },
     "execution_count": 140,
     "metadata": {},
     "output_type": "execute_result"
    }
   ],
   "source": [
    "df_experimental[df_experimental['item_type'] == 'Filtro']"
   ],
   "metadata": {
    "collapsed": false,
    "ExecuteTime": {
     "end_time": "2023-11-17T16:47:32.291693Z",
     "start_time": "2023-11-17T16:47:32.282432Z"
    }
   },
   "id": "9ccf5db48fcb00b3"
  },
  {
   "cell_type": "code",
   "execution_count": null,
   "outputs": [],
   "source": [],
   "metadata": {
    "collapsed": false
   },
   "id": "76632211fc634fad"
  }
 ],
 "metadata": {
  "kernelspec": {
   "display_name": "Python 3",
   "language": "python",
   "name": "python3"
  },
  "language_info": {
   "codemirror_mode": {
    "name": "ipython",
    "version": 2
   },
   "file_extension": ".py",
   "mimetype": "text/x-python",
   "name": "python",
   "nbconvert_exporter": "python",
   "pygments_lexer": "ipython2",
   "version": "2.7.6"
  }
 },
 "nbformat": 4,
 "nbformat_minor": 5
}
